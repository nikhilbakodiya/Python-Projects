{
 "cells": [
  {
   "cell_type": "code",
   "execution_count": 1,
   "id": "5225a9b1",
   "metadata": {},
   "outputs": [],
   "source": [
    "#Importing the required modules\n",
    "\n",
    "import random\n",
    "from black_jack_art import logo\n",
    "from IPython.display import clear_output"
   ]
  },
  {
   "cell_type": "markdown",
   "id": "5e16f2e6",
   "metadata": {},
   "source": [
    "Deal Card Function to return a random card"
   ]
  },
  {
   "cell_type": "code",
   "execution_count": 2,
   "id": "e477f2fa",
   "metadata": {},
   "outputs": [],
   "source": [
    "#deal_card() function that uses the List below to *return* a random card.\n",
    "#11 is the Ace.\n",
    "\n",
    "def deal():\n",
    "    \"\"\"Return a random card from the deck\"\"\"\n",
    "    cards = [11, 2, 3, 4, 5, 6, 7, 8, 9, 10, 10, 10, 10]\n",
    "    card = random.choice(cards)\n",
    "    return card"
   ]
  },
  {
   "cell_type": "markdown",
   "id": "8cebd783",
   "metadata": {},
   "source": [
    "Function called calculate_score() that takes a List of cards as input \n",
    "and returns the score. "
   ]
  },
  {
   "cell_type": "code",
   "execution_count": 3,
   "id": "887afea5",
   "metadata": {},
   "outputs": [],
   "source": [
    "#function called calculate_score() that takes a List of cards as input \n",
    "#and returns the score. \n",
    "def calculate_score(cards):\n",
    "    \"\"\"Take a list of cards and return the score calculated from the cards\"\"\"\n",
    "    if sum(cards) == 21 & len(cards)==2:\n",
    "        return 0\n",
    "    if 11 in cards and sum(cards)>21:\n",
    "        cards.remove(11)\n",
    "        cards.append(1)\n",
    "    return sum(cards)\n"
   ]
  },
  {
   "cell_type": "markdown",
   "id": "ec324c14",
   "metadata": {},
   "source": [
    "Comparison of scores"
   ]
  },
  {
   "cell_type": "code",
   "execution_count": 4,
   "id": "b7d0a604",
   "metadata": {},
   "outputs": [],
   "source": [
    "def compare(user_score, computer_score):\n",
    "    if user_score > 21 and computer_score > 21:\n",
    "        print(\"You went over. You lose 😤\")\n",
    "        \n",
    "    if user_score == computer_score:\n",
    "        print(\"It's a draw 🙃\")\n",
    "    elif computer_score == 0:\n",
    "        print(\"You Lose, opponent has Blackjack 😱\")\n",
    "    elif user_score == 0:\n",
    "        print(\"You won, with a Blackjack 😎\")\n",
    "    elif user_score>21:\n",
    "        print(\"You went over 21. You lose 😭\")\n",
    "    elif computer_score>21:\n",
    "        print(\"Opponent went over 21. You win 😁\")\n",
    "    elif computer_score > user_score:\n",
    "        print(\"You lose 😤\")\n",
    "    elif computer_score < user_score:\n",
    "        print(\"You win 😃\")"
   ]
  },
  {
   "cell_type": "markdown",
   "id": "f7b749b6",
   "metadata": {},
   "source": [
    "# Main game code"
   ]
  },
  {
   "cell_type": "code",
   "execution_count": 5,
   "id": "67ad3f45",
   "metadata": {},
   "outputs": [
    {
     "name": "stdout",
     "output_type": "stream",
     "text": [
      "\n",
      ".------.            _     _            _    _            _    \n",
      "|A_  _ |.          | |   | |          | |  (_)          | |   \n",
      "|( \\/ ).-----.     | |__ | | __ _  ___| | ___  __ _  ___| | __\n",
      "| \\  /|K /\\  |     | '_ \\| |/ _` |/ __| |/ / |/ _` |/ __| |/ /\n",
      "|  \\/ | /  \\ |     | |_) | | (_| | (__|   <| | (_| | (__|   < \n",
      "`-----| \\  / |     |_.__/|_|\\__,_|\\___|_|\\_\\ |\\__,_|\\___|_|\\_\\\n",
      "      |  \\/ K|                            _/ |                \n",
      "      `------'                           |__/           \n",
      "\n",
      "Your cards : [10, 10], current_score 20\n",
      "Computer's first cards: 10\n",
      "Do you want to draw another card? type 'y' or 'n': n\n",
      "   Your final hand: [10, 10], final score: 20\n",
      "   Computer's final hand: [10, 7], final score: 17\n",
      "You win 😃\n",
      "Do you wanna play the game of BlackJack?: type 'y', or 'n'n\n"
     ]
    }
   ],
   "source": [
    "def black_jack_game():\n",
    "    print(logo)\n",
    "    user_cards = []\n",
    "    computer_cards = []\n",
    "    is_game_over = False\n",
    "    \n",
    "    #Deal the user and computer 2 cards each using deal_card()\n",
    "    for _ in range(2):\n",
    "        user_cards.append(deal())\n",
    "        computer_cards.append(deal())\n",
    "    #The score will need to be rechecked with every new card drawn and the checks which needs to be repeated until the game ends.\n",
    "    while not is_game_over:\n",
    "        #Call calculate_score(). If the computer or the user has a blackjack (0) or if the user's score is over 21, then the game ends.\n",
    "        user_score = calculate_score(user_cards)\n",
    "        computer_score = calculate_score(computer_cards)\n",
    "        print(f\"Your cards : {user_cards}, current_score {user_score}\")\n",
    "        print(f\"Computer's first cards: {computer_cards[0]}\")\n",
    "\n",
    "        if user_score == 0 or computer_score == 0 or user_score>21:\n",
    "            is_game_over = True\n",
    "        else:\n",
    "            #If the game has not ended, ask the user if they want to draw another card. \n",
    "            #If yes, then use the deal_card() function to add another card to the user_cards List. If no, then the game has ended.\n",
    "            check_for_more_cards = input(\"Do you want to draw another card? type 'y' or 'n': \")\n",
    "            if check_for_more_cards == 'y':\n",
    "                user_cards.append(deal())\n",
    "            else:\n",
    "                is_game_over = True\n",
    "    #Once the user is done, it's time to let the computer play. \n",
    "    #The computer should keep drawing cards as long as it has a score less than 17.\n",
    "    while computer_score!= 0 and computer_score<17:\n",
    "        computer_cards.append(deal())\n",
    "        computer_score = calculate_score(computer_cards)\n",
    "        \n",
    "    print(f\"   Your final hand: {user_cards}, final score: {user_score}\")\n",
    "    print(f\"   Computer's final hand: {computer_cards}, final score: {computer_score}\")\n",
    "    compare(user_score, computer_score)\n",
    "    \n",
    "#Ask the user if they want to restart the game. If they answer yes, clear the console and start a new game of blackjack\n",
    "while input(\"Do you wanna play the game of BlackJack?: type 'y', or 'n' \") == 'y':\n",
    "    clear_output(wait=True)\n",
    "    black_jack_game()\n"
   ]
  },
  {
   "cell_type": "code",
   "execution_count": null,
   "id": "d7a79f88",
   "metadata": {},
   "outputs": [],
   "source": []
  }
 ],
 "metadata": {
  "kernelspec": {
   "display_name": "Python 3 (ipykernel)",
   "language": "python",
   "name": "python3"
  },
  "language_info": {
   "codemirror_mode": {
    "name": "ipython",
    "version": 3
   },
   "file_extension": ".py",
   "mimetype": "text/x-python",
   "name": "python",
   "nbconvert_exporter": "python",
   "pygments_lexer": "ipython3",
   "version": "3.9.13"
  }
 },
 "nbformat": 4,
 "nbformat_minor": 5
}
