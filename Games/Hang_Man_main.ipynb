{
 "cells": [
  {
   "cell_type": "code",
   "execution_count": 1,
   "id": "cbe0de56",
   "metadata": {},
   "outputs": [],
   "source": [
    "# Importing the required modules, logos, and the word_list\n",
    "import random\n",
    "from hangman_art import logo, stages\n",
    "from hangman_words import word_list\n",
    "from IPython.display import clear_output"
   ]
  },
  {
   "cell_type": "code",
   "execution_count": 2,
   "id": "29bb5286",
   "metadata": {},
   "outputs": [],
   "source": [
    "#Defining variables\n",
    "game_over = False\n",
    "chosen_word = random.choice(word_list)\n",
    "word_length = len(chosen_word)\n",
    "lives = 6"
   ]
  },
  {
   "cell_type": "code",
   "execution_count": 3,
   "id": "4a7a668c",
   "metadata": {},
   "outputs": [
    {
     "name": "stdout",
     "output_type": "stream",
     "text": [
      "Pssst, the solution is caliph.\n"
     ]
    }
   ],
   "source": [
    "#Testing code, to check the code\n",
    "print(f'Pssst, the solution is {chosen_word}.')"
   ]
  },
  {
   "cell_type": "code",
   "execution_count": 4,
   "id": "4acc1a3c",
   "metadata": {},
   "outputs": [],
   "source": [
    "# Create Blanks equivalent to the chosen_word\n",
    "display = []\n",
    "\n",
    "for char in range(word_length):\n",
    "    dash = \"_\"\n",
    "    display.append(dash)\n"
   ]
  },
  {
   "cell_type": "code",
   "execution_count": 5,
   "id": "2d7dd9e7",
   "metadata": {},
   "outputs": [
    {
     "name": "stdout",
     "output_type": "stream",
     "text": [
      "['_', '_', '_', '_', '_', '_']\n"
     ]
    }
   ],
   "source": [
    "print(display)"
   ]
  },
  {
   "cell_type": "code",
   "execution_count": null,
   "id": "555f8f08",
   "metadata": {},
   "outputs": [
    {
     "name": "stdout",
     "output_type": "stream",
     "text": [
      " \n",
      " _                                             \n",
      "| |                                            \n",
      "| |__   __ _ _ __   __ _ _ __ ___   __ _ _ __  \n",
      "| '_ \\ / _` | '_ \\ / _` | '_ ` _ \\ / _` | '_ \\ \n",
      "| | | | (_| | | | | (_| | | | | | | (_| | | | |\n",
      "|_| |_|\\__,_|_| |_|\\__, |_| |_| |_|\\__,_|_| |_|\n",
      "                    __/ |                      \n",
      "                   |___/    \n"
     ]
    }
   ],
   "source": [
    "#The main game code\n",
    "print(logo)\n",
    "while not game_over:\n",
    "    clear_output(wait=True)  # Clear the output before each guess\n",
    "    \n",
    "    guess = input(\"Guess a Letter \").lower()\n",
    "      \n",
    "    if guess in display:\n",
    "        print(f\"You've already guessed {guess}\")\n",
    "    \n",
    "    #Check guessed letter\n",
    "    for position in range(word_length):\n",
    "        letter = chosen_word[position]\n",
    "        if guess==letter:\n",
    "            display[position] = guess\n",
    "     # Check if user is wrong\n",
    "    if guess not in chosen_word:\n",
    "        print(f\"You guessed {guess}, that's not in the word, You lose a life!\")\n",
    "        lives-= 1\n",
    "        if lives==0:\n",
    "            game_over = True\n",
    "            print(\"You Lose!\") \n",
    "            \n",
    "    print(f\"{' '.join(display)}\")\n",
    "    #Check if user has got all letters.\n",
    "    if \"_\" not in display:\n",
    "        game_over=True\n",
    "        print(\"You won!\")\n",
    "    print(stages[lives])"
   ]
  },
  {
   "cell_type": "code",
   "execution_count": null,
   "id": "cd22c9c7",
   "metadata": {},
   "outputs": [],
   "source": []
  }
 ],
 "metadata": {
  "kernelspec": {
   "display_name": "Python 3 (ipykernel)",
   "language": "python",
   "name": "python3"
  },
  "language_info": {
   "codemirror_mode": {
    "name": "ipython",
    "version": 3
   },
   "file_extension": ".py",
   "mimetype": "text/x-python",
   "name": "python",
   "nbconvert_exporter": "python",
   "pygments_lexer": "ipython3",
   "version": "3.9.13"
  }
 },
 "nbformat": 4,
 "nbformat_minor": 5
}
