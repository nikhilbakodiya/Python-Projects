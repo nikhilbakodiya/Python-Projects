{
 "cells": [
  {
   "cell_type": "code",
   "execution_count": 1,
   "id": "4f6816cf",
   "metadata": {},
   "outputs": [],
   "source": [
    "import random\n",
    "from guess_number_art import logo"
   ]
  },
  {
   "cell_type": "code",
   "execution_count": 2,
   "id": "fe8589fe",
   "metadata": {},
   "outputs": [],
   "source": [
    "#Global variables\n",
    "EASY_LEVEL = 10\n",
    "HARD_LEVEL = 5"
   ]
  },
  {
   "cell_type": "markdown",
   "id": "84096096",
   "metadata": {},
   "source": [
    "Function to check user's guess against actual answer."
   ]
  },
  {
   "cell_type": "code",
   "execution_count": 7,
   "id": "ae2d3339",
   "metadata": {},
   "outputs": [],
   "source": [
    "def check_answer(guess, answer, turns):\n",
    "    \"\"\"checks answer against guess. Returns the number of turns remaining.\"\"\"\n",
    "    if guess > answer:\n",
    "        print(\"Too High\")\n",
    "        return turns - 1\n",
    "    elif guess<answer:\n",
    "        print(\"Too Low\")\n",
    "        return turns - 1\n",
    "    elif guess == answer:\n",
    "        print(f\"That's correct, the number is {answer} \")"
   ]
  },
  {
   "cell_type": "markdown",
   "id": "8966b41e",
   "metadata": {},
   "source": [
    "Make function to set difficulty."
   ]
  },
  {
   "cell_type": "code",
   "execution_count": 8,
   "id": "0b8a019c",
   "metadata": {},
   "outputs": [],
   "source": [
    "def set_difficulty():\n",
    "    level = input(\"Choose a difficulty. Type 'easy' or 'hard': \")\n",
    "    if level == 'easy':\n",
    "        return EASY_LEVEL\n",
    "    if level == 'hard':\n",
    "        return HARD_LEVEL"
   ]
  },
  {
   "cell_type": "code",
   "execution_count": 10,
   "id": "353f4ff7",
   "metadata": {},
   "outputs": [
    {
     "name": "stdout",
     "output_type": "stream",
     "text": [
      "\n",
      "\n",
      "   _____                       _______ _            _   _                 _               \n",
      "  / ____|                     |__   __| |          | \\ | |               | |              \n",
      " | |  __ _   _  ___  ___ ___     | |  | |__   ___  |  \\| |_   _ _ __ ___ | |__   ___ _ __ \n",
      " | | |_ | | | |/ _ \\/ __/ __|    | |  | '_ \\ / _ \\ | . ` | | | | '_ ` _ \\| '_ \\ / _ \\ '__|\n",
      " | |__| | |_| |  __/\\__ \\__ \\    | |  | | | |  __/ | |\\  | |_| | | | | | | |_) |  __/ |   \n",
      "  \\_____|\\__,_|\\___||___/___/    |_|  |_| |_|\\___| |_| \\_|\\__,_|_| |_| |_|_.__/ \\___|_|   \n",
      "                                                                                          \n",
      "                                                                                          \n",
      "\n",
      "Welcome to the Number Guessing Game!\n",
      "I'm thinking of a number between 1 and 100.\n",
      "psst, the anser is 83\n",
      "Choose a difficulty. Type 'easy' or 'hard': hard\n",
      "You have 5 attempts remaining to guess the number.\n",
      "Make a guess: 32\n",
      "Too Low\n",
      "Guess again.\n",
      "You have 4 attempts remaining to guess the number.\n",
      "Make a guess: 90\n",
      "Too High\n",
      "Guess again.\n",
      "You have 3 attempts remaining to guess the number.\n",
      "Make a guess: 45\n",
      "Too Low\n",
      "Guess again.\n",
      "You have 2 attempts remaining to guess the number.\n",
      "Make a guess: 50\n",
      "Too Low\n",
      "Guess again.\n",
      "You have 1 attempts remaining to guess the number.\n",
      "Make a guess: 70\n",
      "Too Low\n",
      "You've run out of guesses, you lose.\n"
     ]
    }
   ],
   "source": [
    "def game():\n",
    "    print(logo)\n",
    "    print(\"Welcome to the Number Guessing Game!\")\n",
    "    \n",
    "    #Choosing a random number between 1 and 100.\n",
    "    print(\"I'm thinking of a number between 1 and 100.\")\n",
    "    answer = random.randint(1,100)\n",
    "    print(f\"psst, the anser is {answer}\") # to check the code\n",
    "    \n",
    "    turns = set_difficulty()\n",
    "    guess = 0\n",
    "    \n",
    "    while guess != answer:\n",
    "        print(f\"You have {turns} attempts remaining to guess the number.\")\n",
    "         #Let the user guess a number.\n",
    "        guess = int(input(\"Make a guess: \"))\n",
    "         #Track the number of turns and reduce by 1 if they get it wrong.\n",
    "        turns = check_answer(guess, answer, turns)\n",
    "            \n",
    "        if turns == 0:\n",
    "            print(\"You've run out of guesses, you lose.\")\n",
    "            return\n",
    "        elif guess != answer:\n",
    "            print(\"Guess again.\")\n",
    "game()"
   ]
  },
  {
   "cell_type": "code",
   "execution_count": null,
   "id": "df51744d",
   "metadata": {},
   "outputs": [],
   "source": []
  }
 ],
 "metadata": {
  "kernelspec": {
   "display_name": "Python 3 (ipykernel)",
   "language": "python",
   "name": "python3"
  },
  "language_info": {
   "codemirror_mode": {
    "name": "ipython",
    "version": 3
   },
   "file_extension": ".py",
   "mimetype": "text/x-python",
   "name": "python",
   "nbconvert_exporter": "python",
   "pygments_lexer": "ipython3",
   "version": "3.9.13"
  }
 },
 "nbformat": 4,
 "nbformat_minor": 5
}
