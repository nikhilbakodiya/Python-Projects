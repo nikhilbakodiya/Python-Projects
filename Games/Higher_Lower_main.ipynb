{
 "cells": [
  {
   "cell_type": "code",
   "execution_count": 1,
   "id": "780cc251",
   "metadata": {},
   "outputs": [],
   "source": [
    "#importing required modules\n",
    "from higher_lower_art import logo, vs\n",
    "from game_data import data as data\n",
    "from IPython.display import clear_output\n",
    "import random\n",
    "\n",
    "# Generate a random account from the game data.\n",
    "def get_random_account():\n",
    "    \"\"\"Get data from random account\"\"\"\n",
    "    return random.choice(data)\n",
    "    "
   ]
  },
  {
   "cell_type": "code",
   "execution_count": 2,
   "id": "42824ac7",
   "metadata": {},
   "outputs": [],
   "source": [
    "# Format account data into printable format.\n",
    "def format_data(account):\n",
    "    \"\"\"Format account into printable format: name, description and country\"\"\"\n",
    "    name = account[\"name\"]\n",
    "    description = account[\"description\"]\n",
    "    country = account[\"country\"]\n",
    "    # print(f'{name}: {account[\"follower_count\"]}')\n",
    "    return f\"{name}, a {description}, from {country}\""
   ]
  },
  {
   "cell_type": "code",
   "execution_count": 3,
   "id": "2ce2ac41",
   "metadata": {},
   "outputs": [],
   "source": [
    "def check_answer(guess, a_followers, b_followers):\n",
    "    \"\"\"Checks followers against user's guess \n",
    "    and returns True if they got it right.\n",
    "    Or False if they got it wrong.\"\"\" \n",
    "    if a_followers > b_followers:\n",
    "        return guess == \"a\"\n",
    "    else:\n",
    "        return guess == \"b\""
   ]
  },
  {
   "cell_type": "code",
   "execution_count": 4,
   "id": "80c21887",
   "metadata": {},
   "outputs": [],
   "source": [
    "def game():\n",
    "    print(logo)\n",
    "    score = 0\n",
    "    game_should_continue = True\n",
    "    account_a = get_random_account()\n",
    "    account_b = get_random_account()\n",
    "\n",
    "    while game_should_continue:\n",
    "        account_a = account_b\n",
    "        account_b = get_random_account()\n",
    "        \n",
    "        while account_a == account_b:\n",
    "            account_b = get_random_account()\n",
    "        print(f\"Compare A: {format_data(account_a)}.\")\n",
    "        print(vs)\n",
    "        print(f\"Against B: {format_data(account_b)}.\")\n",
    "    \n",
    "        guess = input(\"Who has more followers? Type 'A' or 'B': \").lower()\n",
    "        a_follower_count = account_a[\"follower_count\"]\n",
    "        b_follower_count = account_b[\"follower_count\"]\n",
    "        is_correct = check_answer(guess, a_follower_count, b_follower_count)\n",
    "\n",
    "        clear_output(wait=True) \n",
    "        print(logo)\n",
    "        if is_correct:\n",
    "            score += 1\n",
    "            print(f\"You're right! Current score: {score}.\")\n",
    "        else:\n",
    "            game_should_continue = False\n",
    "            print(f\"Sorry, that's wrong. Final score: {score}\")"
   ]
  },
  {
   "cell_type": "code",
   "execution_count": null,
   "id": "d0dfcc75",
   "metadata": {},
   "outputs": [
    {
     "name": "stdout",
     "output_type": "stream",
     "text": [
      "\n",
      "    __  ___       __             \n",
      "   / / / (_)___ _/ /_  ___  _____\n",
      "  / /_/ / / __ `/ __ \\/ _ \\/ ___/\n",
      " / __  / / /_/ / / / /  __/ /    \n",
      "/_/ ///_/\\__, /_/ /_/\\___/_/     \n",
      "   / /  /____/_      _____  _____\n",
      "  / /   / __ \\ | /| / / _ \\/ ___/\n",
      " / /___/ /_/ / |/ |/ /  __/ /    \n",
      "/_____/\\____/|__/|__/\\___/_/     \n",
      "\n",
      "You're right! Current score: 1.\n",
      "Compare A: Neymar, a Footballer, from Brasil.\n",
      "\n",
      " _    __    \n",
      "| |  / /____\n",
      "| | / / ___/\n",
      "| |/ (__  ) \n",
      "|___/____(_)\n",
      "\n",
      "Against B: Cristiano Ronaldo, a Footballer, from Portugal.\n"
     ]
    }
   ],
   "source": [
    "game()"
   ]
  },
  {
   "cell_type": "code",
   "execution_count": null,
   "id": "6677f381",
   "metadata": {},
   "outputs": [],
   "source": []
  }
 ],
 "metadata": {
  "kernelspec": {
   "display_name": "Python 3 (ipykernel)",
   "language": "python",
   "name": "python3"
  },
  "language_info": {
   "codemirror_mode": {
    "name": "ipython",
    "version": 3
   },
   "file_extension": ".py",
   "mimetype": "text/x-python",
   "name": "python",
   "nbconvert_exporter": "python",
   "pygments_lexer": "ipython3",
   "version": "3.9.13"
  }
 },
 "nbformat": 4,
 "nbformat_minor": 5
}
