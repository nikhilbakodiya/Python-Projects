{
 "cells": [
  {
   "cell_type": "code",
   "execution_count": 1,
   "id": "98014e73",
   "metadata": {},
   "outputs": [],
   "source": [
    "#importing the required modules\n",
    "from art import logo\n",
    "from IPython.display import clear_output\n"
   ]
  },
  {
   "cell_type": "code",
   "execution_count": 2,
   "id": "14beef39",
   "metadata": {},
   "outputs": [
    {
     "name": "stdout",
     "output_type": "stream",
     "text": [
      "What is your name?\n",
      "suresh\n",
      "What is your bid?\n",
      " $12\n",
      "Are there any other bidder? Type 'yes' or 'no'.\n",
      "no\n",
      "The Highest bidder is Maharani, with a bid amount $90\n"
     ]
    }
   ],
   "source": [
    "print(logo)\n",
    "print(\"Welcome to the Secret Aution Program!\")\n",
    "\n",
    "bids = {}\n",
    "continue_bidding = True\n",
    "\n",
    "def highest_bidder(bidding_record):\n",
    "    highest_bid = 0\n",
    "    for bidder in bidding_record:\n",
    "        bid_amount = bidding_record[bidder] \n",
    "        if bid_amount>highest_bid:\n",
    "            highest_bid = bid_amount\n",
    "            winner = bidder\n",
    "    print(f\"The Highest bidder is {winner}, with a bid amount ${highest_bid}\")\n",
    "\n",
    "\n",
    "\n",
    "while continue_bidding:\n",
    "    name = input(\"What is your name?\\n\")\n",
    "    price = int(input(\"What is your bid?\\n $\"))\n",
    "    bids[name]= price\n",
    "    \n",
    "    condition = input(\"Are there any other bidder? Type 'yes' or 'no'.\\n\")    \n",
    "    \n",
    "    if condition == 'no':\n",
    "        continue_bidding = False\n",
    "        highest_bidder(bids)\n",
    "        \n",
    "    elif condition == 'yes':\n",
    "        clear_output(wait=True) \n",
    "       \n",
    "            \n",
    "    \n"
   ]
  },
  {
   "cell_type": "code",
   "execution_count": 3,
   "id": "15f108c3",
   "metadata": {},
   "outputs": [
    {
     "name": "stdout",
     "output_type": "stream",
     "text": [
      "{'Nikhil': 45, 'Maharani': 90, 'Nikita': 56, 'Yashi': 78, 'suresh': 12}\n"
     ]
    }
   ],
   "source": [
    "print(bids)"
   ]
  },
  {
   "cell_type": "code",
   "execution_count": null,
   "id": "6bb45cbc",
   "metadata": {},
   "outputs": [],
   "source": [
    "    "
   ]
  }
 ],
 "metadata": {
  "kernelspec": {
   "display_name": "Python 3 (ipykernel)",
   "language": "python",
   "name": "python3"
  },
  "language_info": {
   "codemirror_mode": {
    "name": "ipython",
    "version": 3
   },
   "file_extension": ".py",
   "mimetype": "text/x-python",
   "name": "python",
   "nbconvert_exporter": "python",
   "pygments_lexer": "ipython3",
   "version": "3.9.13"
  }
 },
 "nbformat": 4,
 "nbformat_minor": 5
}
