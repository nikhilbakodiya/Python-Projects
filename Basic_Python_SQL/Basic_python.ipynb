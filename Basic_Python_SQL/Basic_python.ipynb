{
 "cells": [
  {
   "cell_type": "code",
   "execution_count": 2,
   "metadata": {},
   "outputs": [
    {
     "name": "stdout",
     "output_type": "stream",
     "text": [
      "True\n",
      "False\n"
     ]
    }
   ],
   "source": [
    "#Code to Check if a Number is Prime\n",
    "\n",
    "def is_prime(n):\n",
    "    if n < 2:\n",
    "        return False  # Prime numbers start from 2\n",
    "\n",
    "    for i in range(2, n):  # Check divisibility from 2 to n-1\n",
    "        if n % i == 0:\n",
    "            return False  # If divisible by any number, not prime\n",
    "\n",
    "    return True  # If no divisor found, it's prime\n",
    "\n",
    "# Example Usage\n",
    "print(is_prime(7))  # Output: True\n",
    "print(is_prime(10)) # Output: False\n"
   ]
  },
  {
   "cell_type": "code",
   "execution_count": 4,
   "metadata": {},
   "outputs": [
    {
     "name": "stdout",
     "output_type": "stream",
     "text": [
      "True\n",
      "False\n"
     ]
    }
   ],
   "source": [
    "# Prime Using Square Root\n",
    "import math\n",
    "\n",
    "def is_prime(n):\n",
    "    if n < 2:\n",
    "        return False\n",
    "\n",
    "    for i in range(2, int(math.sqrt(n)) + 1):\n",
    "        if n % i == 0:\n",
    "            return False\n",
    "\n",
    "    return True\n",
    "\n",
    "# Example Usage\n",
    "print(is_prime(7))  # Output: True\n",
    "print(is_prime(10)) # Output: False"
   ]
  },
  {
   "cell_type": "code",
   "execution_count": 1,
   "metadata": {},
   "outputs": [
    {
     "name": "stdout",
     "output_type": "stream",
     "text": [
      "True\n",
      "False\n"
     ]
    }
   ],
   "source": [
    "def is_prime(n):\n",
    "    if n < 2:\n",
    "        return False\n",
    "\n",
    "    for i in range(2, int(n ** 0.5) + 1):  # Using exponentiation instead of math.sqrt()\n",
    "        if n % i == 0:\n",
    "            return False\n",
    "\n",
    "    return True\n",
    "\n",
    "# Example Usage\n",
    "print(is_prime(7))  # Output: True\n",
    "print(is_prime(10)) # Output: False"
   ]
  },
  {
   "cell_type": "code",
   "execution_count": 6,
   "metadata": {},
   "outputs": [
    {
     "name": "stdout",
     "output_type": "stream",
     "text": [
      "[-9, 1, 4, 8, 23, 30]\n"
     ]
    }
   ],
   "source": [
    "#Selection Sort (Easier Than Bubble Sort)\n",
    "\n",
    "lst = [1, 23, -9, 30, 4, 8]\n",
    "\n",
    "n = len(lst)\n",
    "for i in range(n):\n",
    "    min_index = i  # Assume the first element is the smallest\n",
    "    for j in range(i + 1, n):\n",
    "        if lst[j] < lst[min_index]:  # Find the smallest element\n",
    "            min_index = j\n",
    "    lst[i], lst[min_index] = lst[min_index], lst[i]  # Swap smallest with first element\n",
    "\n",
    "print(lst)\n"
   ]
  },
  {
   "cell_type": "code",
   "execution_count": 7,
   "metadata": {},
   "outputs": [
    {
     "name": "stdout",
     "output_type": "stream",
     "text": [
      "[-9, 1, 4, 8, 23, 30]\n"
     ]
    }
   ],
   "source": [
    "# Brute-Force Sorting (Bubble Sort)\n",
    "lst = [1, 23, -9, 30, 4, 8]\n",
    "\n",
    "n = len(lst)\n",
    "for i in range(n):\n",
    "    for j in range(n - i - 1):  # Compare adjacent elements\n",
    "        if lst[j] > lst[j + 1]:  # Swap if in wrong order\n",
    "            lst[j], lst[j + 1] = lst[j + 1], lst[j]\n",
    "\n",
    "print(lst)\n"
   ]
  },
  {
   "cell_type": "code",
   "execution_count": 8,
   "metadata": {},
   "outputs": [
    {
     "name": "stdout",
     "output_type": "stream",
     "text": [
      "[[4, 8, 9], [5, 6, 7], [1, 2, 3]]\n"
     ]
    }
   ],
   "source": [
    "# Sorting Nested Lists (Custom Sorting Rule)\n",
    "lst = [[3, 1, 2], [7, 5, 6], [4, 8, 9]]\n",
    "\n",
    "# Step 1: Sort each inner list in ascending order\n",
    "sorted_lists = [sorted(inner_list) for inner_list in lst]\n",
    "\n",
    "# Step 2: Sort the outer list based on sum in descending order\n",
    "sorted_lists.sort(key=lambda x: sum(x), reverse=True)\n",
    "\n",
    "print(sorted_lists)\n"
   ]
  },
  {
   "cell_type": "code",
   "execution_count": 9,
   "metadata": {},
   "outputs": [
    {
     "name": "stdout",
     "output_type": "stream",
     "text": [
      "[[4, 8, 9], [5, 6, 7], [1, 2, 3]]\n"
     ]
    }
   ],
   "source": [
    "#Brute-Force Approach Without sorted() or sort()\n",
    "\n",
    "def bubble_sort(lst):\n",
    "    \"\"\"Sorts a list in ascending order using Bubble Sort\"\"\"\n",
    "    n = len(lst)\n",
    "    for i in range(n):\n",
    "        for j in range(n - i - 1):\n",
    "            if lst[j] > lst[j + 1]:  # Swap if out of order\n",
    "                lst[j], lst[j + 1] = lst[j + 1], lst[j]\n",
    "\n",
    "def sum_descending_sort(nested_list):\n",
    "    \"\"\"Sorts the outer list based on sum in descending order using brute force\"\"\"\n",
    "    n = len(nested_list)\n",
    "    for i in range(n):\n",
    "        for j in range(n - i - 1):\n",
    "            if sum(nested_list[j]) < sum(nested_list[j + 1]):  # Swap if sum is smaller\n",
    "                nested_list[j], nested_list[j + 1] = nested_list[j + 1], nested_list[j]\n",
    "\n",
    "# Input list\n",
    "lst = [[3, 1, 2], [7, 5, 6], [4, 8, 9]]\n",
    "\n",
    "# Step 1: Sort each inner list in ascending order using Bubble Sort\n",
    "for inner_list in lst:\n",
    "    bubble_sort(inner_list)\n",
    "\n",
    "# Step 2: Sort the outer list in descending order based on sum using Bubble Sort\n",
    "sum_descending_sort(lst)\n",
    "\n",
    "print(lst)\n"
   ]
  },
  {
   "cell_type": "code",
   "execution_count": 10,
   "metadata": {},
   "outputs": [
    {
     "name": "stdout",
     "output_type": "stream",
     "text": [
      "olleh\n"
     ]
    }
   ],
   "source": [
    "#Reverse a String\n",
    "s = \"hello\"\n",
    "print(s[::-1])  # Output: \"olleh\"\n"
   ]
  },
  {
   "cell_type": "code",
   "execution_count": 11,
   "metadata": {},
   "outputs": [
    {
     "name": "stdout",
     "output_type": "stream",
     "text": [
      "Counter({'hello': 2, 'world': 1})\n"
     ]
    }
   ],
   "source": [
    "#Count Word Frequency in a Sentence\n",
    "from collections import Counter\n",
    "\n",
    "sentence = \"hello world hello\"\n",
    "word_count = Counter(sentence.split())\n",
    "print(word_count)  # Output: {'hello': 2, 'world': 1}\n"
   ]
  },
  {
   "cell_type": "code",
   "execution_count": 12,
   "metadata": {},
   "outputs": [
    {
     "name": "stdout",
     "output_type": "stream",
     "text": [
      "23\n"
     ]
    }
   ],
   "source": [
    "#Find Second Largest Unique Number in a List\n",
    "def second_largest(lst):\n",
    "    unique_numbers = list(set(lst))\n",
    "    if len(unique_numbers) < 2:\n",
    "        return None\n",
    "    unique_numbers.sort()\n",
    "    return unique_numbers[-2]\n",
    "\n",
    "lst = [1, 23, -9, 30, 4, 8, 23]\n",
    "print(second_largest(lst))  # Output: 23\n"
   ]
  },
  {
   "cell_type": "code",
   "execution_count": 13,
   "metadata": {},
   "outputs": [
    {
     "name": "stdout",
     "output_type": "stream",
     "text": [
      "[1, 2, 3, 4]\n"
     ]
    }
   ],
   "source": [
    "#Remove Duplicates from a List Without Using Set\n",
    "\n",
    "def remove_duplicates(lst):\n",
    "    unique_lst = []\n",
    "    for num in lst:\n",
    "        if num not in unique_lst:\n",
    "            unique_lst.append(num)\n",
    "    return unique_lst\n",
    "\n",
    "print(remove_duplicates([1, 2, 3, 2, 4, 3]))  # Output: [1, 2, 3, 4]\n"
   ]
  },
  {
   "cell_type": "code",
   "execution_count": 14,
   "metadata": {},
   "outputs": [
    {
     "name": "stdout",
     "output_type": "stream",
     "text": [
      "2\n"
     ]
    }
   ],
   "source": [
    "#Find the Index of an Element in a Sorted List (Binary Search)\n",
    "\n",
    "def binary_search(lst, target):\n",
    "    left, right = 0, len(lst) - 1\n",
    "    while left <= right:\n",
    "        mid = (left + right) // 2\n",
    "        if lst[mid] == target:\n",
    "            return mid\n",
    "        elif lst[mid] < target:\n",
    "            left = mid + 1\n",
    "        else:\n",
    "            right = mid - 1\n",
    "    return -1  # Not found\n",
    "\n",
    "lst = [1, 3, 5, 7, 9]\n",
    "print(binary_search(lst, 5))  # Output: 2\n"
   ]
  },
  {
   "cell_type": "code",
   "execution_count": 15,
   "metadata": {},
   "outputs": [
    {
     "name": "stdout",
     "output_type": "stream",
     "text": [
      "True\n",
      "False\n"
     ]
    }
   ],
   "source": [
    "#Check If Two Strings Are Anagrams (Without Sorting)\n",
    "def is_anagram(s, t):\n",
    "    if len(s) != len(t):\n",
    "        return False\n",
    "    char_count = {}\n",
    "    for char in s:\n",
    "        char_count[char] = char_count.get(char, 0) + 1\n",
    "    for char in t:\n",
    "        if char not in char_count or char_count[char] == 0:\n",
    "            return False\n",
    "        char_count[char] -= 1\n",
    "    return True\n",
    "\n",
    "print(is_anagram(\"listen\", \"silent\"))  # Output: True\n",
    "print(is_anagram(\"hello\", \"world\"))    # Output: False\n"
   ]
  },
  {
   "cell_type": "code",
   "execution_count": 16,
   "metadata": {},
   "outputs": [
    {
     "name": "stdout",
     "output_type": "stream",
     "text": [
      "True\n",
      "False\n"
     ]
    }
   ],
   "source": [
    "#Check If a List is a Subset of Another (Brute Force)\n",
    "def is_subset(lst1, lst2):\n",
    "    for num in lst1:\n",
    "        if num not in lst2:\n",
    "            return False\n",
    "    return True\n",
    "\n",
    "print(is_subset([1, 2], [1, 2, 3, 4]))  # Output: True\n",
    "print(is_subset([1, 6], [1, 2, 3, 4]))  # Output: False\n"
   ]
  },
  {
   "cell_type": "code",
   "execution_count": 17,
   "metadata": {},
   "outputs": [
    {
     "name": "stdout",
     "output_type": "stream",
     "text": [
      "True\n",
      "False\n"
     ]
    }
   ],
   "source": [
    "#Check If a String is a Subsequence of Another\n",
    "def is_subsequence(s, t):\n",
    "    i, j = 0, 0\n",
    "    while i < len(s) and j < len(t):\n",
    "        if s[i] == t[j]:\n",
    "            i += 1\n",
    "        j += 1\n",
    "    return i == len(s)\n",
    "\n",
    "print(is_subsequence(\"ace\", \"abcde\"))  # Output: True\n",
    "print(is_subsequence(\"aec\", \"abcde\"))  # Output: False\n"
   ]
  },
  {
   "cell_type": "code",
   "execution_count": 18,
   "metadata": {},
   "outputs": [
    {
     "name": "stdout",
     "output_type": "stream",
     "text": [
      "4\n"
     ]
    }
   ],
   "source": [
    "#Find the Missing Number in an Array (1 to n)\n",
    "\n",
    "def find_missing_number(lst, n):\n",
    "    expected_sum = n * (n + 1) // 2\n",
    "    actual_sum = sum(lst)\n",
    "    return expected_sum - actual_sum\n",
    "\n",
    "print(find_missing_number([1, 2, 3, 5], 5))  # Output: 4\n"
   ]
  },
  {
   "cell_type": "code",
   "execution_count": null,
   "metadata": {},
   "outputs": [],
   "source": []
  }
 ],
 "metadata": {
  "kernelspec": {
   "display_name": "Python 3",
   "language": "python",
   "name": "python3"
  },
  "language_info": {
   "codemirror_mode": {
    "name": "ipython",
    "version": 3
   },
   "file_extension": ".py",
   "mimetype": "text/x-python",
   "name": "python",
   "nbconvert_exporter": "python",
   "pygments_lexer": "ipython3",
   "version": "3.9.0"
  }
 },
 "nbformat": 4,
 "nbformat_minor": 2
}
